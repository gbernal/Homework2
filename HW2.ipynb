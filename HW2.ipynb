{
 "cells": [
  {
   "cell_type": "code",
   "execution_count": 7,
   "metadata": {
    "collapsed": false
   },
   "outputs": [
    {
     "ename": "ImportError",
     "evalue": "No module named electiondata",
     "output_type": "error",
     "traceback": [
      "\u001b[0;31m---------------------------------------------------------------------------\u001b[0m",
      "\u001b[0;31mImportError\u001b[0m                               Traceback (most recent call last)",
      "\u001b[0;32m<ipython-input-7-eae6fbee2a70>\u001b[0m in \u001b[0;36m<module>\u001b[0;34m()\u001b[0m\n\u001b[1;32m      1\u001b[0m \u001b[0;32mimport\u001b[0m \u001b[0mmediacloud\u001b[0m\u001b[0;34m,\u001b[0m \u001b[0mdatetime\u001b[0m\u001b[0;34m\u001b[0m\u001b[0m\n\u001b[0;32m----> 2\u001b[0;31m \u001b[0;32mfrom\u001b[0m \u001b[0melectiondata\u001b[0m \u001b[0;32mimport\u001b[0m \u001b[0mElectionResults\u001b[0m\u001b[0;34m\u001b[0m\u001b[0m\n\u001b[0m\u001b[1;32m      3\u001b[0m \u001b[0;32mimport\u001b[0m \u001b[0mjson\u001b[0m\u001b[0;34m,\u001b[0m \u001b[0mast\u001b[0m\u001b[0;34m\u001b[0m\u001b[0m\n\u001b[1;32m      4\u001b[0m \u001b[0;34m\u001b[0m\u001b[0m\n\u001b[1;32m      5\u001b[0m \u001b[0mmc\u001b[0m \u001b[0;34m=\u001b[0m \u001b[0mmediacloud\u001b[0m\u001b[0;34m.\u001b[0m\u001b[0mapi\u001b[0m\u001b[0;34m.\u001b[0m\u001b[0mMediaCloud\u001b[0m\u001b[0;34m(\u001b[0m\u001b[0;34m'0a65d2b3a0780cf15a40ca6914fe2dfeed17257e30b440c0ddffdfbc179635cd'\u001b[0m\u001b[0;34m)\u001b[0m\u001b[0;34m\u001b[0m\u001b[0m\n",
      "\u001b[0;31mImportError\u001b[0m: No module named electiondata"
     ]
    }
   ],
   "source": [
    "import mediacloud, datetime\n",
    "import json, ast \n",
    "\n",
    "mc = mediacloud.api.MediaCloud('0a65d2b3a0780cf15a40ca6914fe2dfeed17257e30b440c0ddffdfbc179635cd')\n",
    "wordsC = mc.wordCount('( Clinton )',  solr_filter=[mc.publish_date_query( datetime.date( 2016, 7, 1), datetime.date( 2016, 8, 1) ), 'tags_id_media:1' ] )\n",
    "wordsT = mc.wordCount('( Trump )',  solr_filter=[mc.publish_date_query( datetime.date( 2016, 7, 1), datetime.date( 2016, 8, 1) ), 'tags_id_media:1' ] )\n",
    "\n",
    "wC= wordsC[0]  #prints the most common word\n",
    "dictC =  ast.literal_eval(json.dumps(wC))\n",
    "numClintMent = dictC['count']   \n",
    "print numClintMent\n",
    "\n",
    "\n",
    "wT= wordsT[0]  #prints the most common word\n",
    "dictT =  ast.literal_eval(json.dumps(wT))\n",
    "numTrumMent = dictT['count']  \n",
    "print numTrumMent\n",
    "\n",
    "if (numClintMent > numTrumMent):\n",
    "    \n",
    "    print \"In the month of September Clinton was mentioned more then Trump in the media\"\n",
    "    \n",
    "else:\n",
    "    \n",
    "    print \"In the month of September Trump was mentioned more then Clnton in the media\"\n"
   ]
  },
  {
   "cell_type": "code",
   "execution_count": 6,
   "metadata": {
    "collapsed": false
   },
   "outputs": [
    {
     "ename": "ImportError",
     "evalue": "No module named electiondata",
     "output_type": "error",
     "traceback": [
      "\u001b[0;31m---------------------------------------------------------------------------\u001b[0m",
      "\u001b[0;31mImportError\u001b[0m                               Traceback (most recent call last)",
      "\u001b[0;32m<ipython-input-6-dee446e0a177>\u001b[0m in \u001b[0;36m<module>\u001b[0;34m()\u001b[0m\n\u001b[1;32m      2\u001b[0m \u001b[0;31m# Showing a \"test-driven\" style\u001b[0m\u001b[0;34m\u001b[0m\u001b[0;34m\u001b[0m\u001b[0m\n\u001b[1;32m      3\u001b[0m \u001b[0;34m\u001b[0m\u001b[0m\n\u001b[0;32m----> 4\u001b[0;31m \u001b[0;32mfrom\u001b[0m \u001b[0melectiondata\u001b[0m \u001b[0;32mimport\u001b[0m \u001b[0mElectionResults\u001b[0m\u001b[0;34m\u001b[0m\u001b[0m\n\u001b[0m\u001b[1;32m      5\u001b[0m \u001b[0;32mimport\u001b[0m \u001b[0munittest\u001b[0m\u001b[0;34m\u001b[0m\u001b[0m\n\u001b[1;32m      6\u001b[0m \u001b[0;34m\u001b[0m\u001b[0m\n",
      "\u001b[0;31mImportError\u001b[0m: No module named electiondata"
     ]
    }
   ],
   "source": [
    "# Verify that we can open and read the election results CSV correctly\n",
    "# Showing a \"test-driven\" style\n",
    "\n",
    "from electiondata import ElectionResults\n",
    "import unittest\n",
    "\n",
    "class ElectionResultsTest(unittest.TestCase):\n",
    "\n",
    "    def setUp(self):\n",
    "        self.results = ElectionResults('election_results_test_file.csv')\n",
    "\n",
    "    def testLoad(self):\n",
    "        self.results.load()\n",
    "        assert self.results is not None\n",
    "        assert self.results.file is not None\n",
    "        assert len(self.results.all_lines) > 0\n",
    "        \n",
    "    def testStateCount(self):\n",
    "        self.results.load()\n",
    "        state_count = self.results.state_count()\n",
    "        assert state_count==2\n",
    "\n",
    "    def testStates(self):\n",
    "        self.results.load()\n",
    "        names = self.results.states()\n",
    "        assert len(names)==2\n",
    "        assert names[0]=='Alaska'\n",
    "        assert names[1]=='Alabama'\n",
    "\n",
    "\n",
    "# if this file is run directly, run the tests\n",
    "if __name__ == \"__main__\":\n",
    "    unittest.main()"
   ]
  },
  {
   "cell_type": "code",
   "execution_count": null,
   "metadata": {
    "collapsed": true
   },
   "outputs": [],
   "source": []
  }
 ],
 "metadata": {
  "kernelspec": {
   "display_name": "Python 2",
   "language": "python",
   "name": "python2"
  },
  "language_info": {
   "codemirror_mode": {
    "name": "ipython",
    "version": 2
   },
   "file_extension": ".py",
   "mimetype": "text/x-python",
   "name": "python",
   "nbconvert_exporter": "python",
   "pygments_lexer": "ipython2",
   "version": "2.7.11"
  }
 },
 "nbformat": 4,
 "nbformat_minor": 1
}
