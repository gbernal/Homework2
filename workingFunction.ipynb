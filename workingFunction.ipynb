{
 "cells": [
  {
   "cell_type": "code",
   "execution_count": 3,
   "metadata": {
    "collapsed": false
   },
   "outputs": [
    {
     "name": "stdout",
     "output_type": "stream",
     "text": [
      "clinton\n",
      "1048\n",
      "trump\n",
      "1063\n",
      "\n",
      "In the month of September trump was mentioned more then clinton in the media\n"
     ]
    }
   ],
   "source": [
    "import mediacloud, datetime\n",
    "import json, ast \n",
    "\n",
    "mc = mediacloud.api.MediaCloud('0a65d2b3a0780cf15a40ca6914fe2dfeed17257e30b440c0ddffdfbc179635cd')\n",
    "wordsC = mc.wordCount('( Clinton )',  solr_filter=[mc.publish_date_query( datetime.date( 2016, 7, 1), datetime.date( 2016, 8, 1) ), 'tags_id_media:1' ] )\n",
    "wordsT = mc.wordCount('( Trump )',  solr_filter=[mc.publish_date_query( datetime.date( 2016, 7, 1), datetime.date( 2016, 8, 1) ), 'tags_id_media:1' ] )\n",
    "\n",
    "\n",
    "def mediaLove(PolName1, PolName2):\n",
    "\n",
    "    \n",
    "    #remove unicode and extract number of mentions and name for politician 1\n",
    "    dict1 =  ast.literal_eval(json.dumps(PolName1[0] ))\n",
    "    num_Mentions_polit1 = dict1['count']  \n",
    "    dictN_polit1=  ast.literal_eval(json.dumps(PolName1[0] ))\n",
    "    name_polit1 = dictN_polit1['term']  \n",
    "    #remove unicode and extract number of mentions and name for politician 2\n",
    "    dict2 =  ast.literal_eval(json.dumps(PolName2[0] ))\n",
    "    num_Mentions_polit2 = dict2['count']  \n",
    "    dictN_polit2 =  ast.literal_eval(json.dumps(PolName2[0] ))\n",
    "    name_polit2 = dictN_polit2['term']     \n",
    "    print name_polit1\n",
    "    print num_Mentions_polit1\n",
    "    print name_polit2\n",
    "    print num_Mentions_polit2\n",
    "    print \"\"\n",
    "    if (num_Mentions_polit1 > num_Mentions_polit2):\n",
    "    \n",
    "    \n",
    "        print \"In the month of September %s was mentioned more then %s in the media\" % (name_polit1, name_polit2)\n",
    "    \n",
    "    else:\n",
    "    \n",
    "    \n",
    "        print \"In the month of September %s was mentioned more then %s in the media\" % (name_polit2, name_polit1)\n",
    "\n",
    "    \n",
    "    return;\n",
    "\n",
    "mediaLove(wordsC, wordsT)\n"
   ]
  },
  {
   "cell_type": "code",
   "execution_count": null,
   "metadata": {
    "collapsed": true
   },
   "outputs": [],
   "source": []
  }
 ],
 "metadata": {
  "kernelspec": {
   "display_name": "Python 2",
   "language": "python",
   "name": "python2"
  },
  "language_info": {
   "codemirror_mode": {
    "name": "ipython",
    "version": 2
   },
   "file_extension": ".py",
   "mimetype": "text/x-python",
   "name": "python",
   "nbconvert_exporter": "python",
   "pygments_lexer": "ipython2",
   "version": "2.7.11"
  }
 },
 "nbformat": 4,
 "nbformat_minor": 1
}
